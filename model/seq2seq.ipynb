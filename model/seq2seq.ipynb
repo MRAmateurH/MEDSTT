{
 "cells": [
  {
   "attachments": {},
   "cell_type": "markdown",
   "metadata": {},
   "source": [
    "### **_Encoder_**"
   ]
  },
  {
   "cell_type": "code",
   "execution_count": null,
   "metadata": {},
   "outputs": [],
   "source": [
    "import torch\n",
    "import torch.nn as nn\n",
    "from transformers import BertModel, BertTokenizer\n",
    "from torch.nn.utils.rnn import pad_sequence\n",
    "from torch.utils.data import DataLoader, Dataset\n",
    "\n",
    "import numpy as np\n",
    "import pandas as pd\n",
    "\n",
    "import spacy\n",
    "nlp = spacy.load(\"en_core_web_sm\")"
   ]
  },
  {
   "cell_type": "code",
   "execution_count": null,
   "metadata": {},
   "outputs": [],
   "source": [
    "global device\n",
    "global vocab_size\n",
    "global lstm_hidden_size\n",
    "global num_layers\n",
    "global batch_size"
   ]
  },
  {
   "cell_type": "code",
   "execution_count": null,
   "metadata": {},
   "outputs": [],
   "source": [
    "bert_model_name = 'bert-base-uncased'\n",
    "bert_tokenizer = BertTokenizer.from_pretrained(bert_model_name)\n",
    "bert_model = BertModel.from_pretrained(bert_model_name)\n",
    "\n",
    "# global variable iinitialize\n",
    "device = torch.device(\"cuda\" if torch.cuda.is_available() else \"cpu\")\n",
    "vocab_size = bert_model.config.vocab_size\n",
    "lstm_hidden_size = 256\n",
    "num_layers = 2\n",
    "batch_size = 6"
   ]
  },
  {
   "attachments": {},
   "cell_type": "markdown",
   "metadata": {},
   "source": [
    "### **_Encoder_**"
   ]
  },
  {
   "cell_type": "code",
   "execution_count": null,
   "metadata": {},
   "outputs": [],
   "source": [
    "class Encoder(nn.Module):\n",
    "\n",
    "    def __init__(self, bert_model):\n",
    "        super(Encoder, self).__init__()\n",
    "        self.bert = bert_model\n",
    "        \n",
    "    def forward(self, input_ids, attention_mask):\n",
    "        # with torch.no_grad():\n",
    "        outputs = self.bert(input_ids, attention_mask=attention_mask)\n",
    "        last_hidden_state = outputs.last_hidden_state\n",
    "        return last_hidden_state\n"
   ]
  },
  {
   "attachments": {},
   "cell_type": "markdown",
   "metadata": {},
   "source": [
    "### **_Decoder_**"
   ]
  },
  {
   "cell_type": "code",
   "execution_count": null,
   "metadata": {},
   "outputs": [],
   "source": [
    "class Decoder(nn.Module):\n",
    "\n",
    "    def __init__(self, lstm_hidden_size, num_layers, vocab_size):\n",
    "        super(Decoder, self).__init__()\n",
    "        self.lstm = nn.LSTM(input_size=bert_model.config.hidden_size,\n",
    "                            hidden_size=lstm_hidden_size,\n",
    "                            num_layers=num_layers)\n",
    "        self.linear = nn.Linear(lstm_hidden_size, vocab_size)\n",
    "    \n",
    "    def forward(self, input):\n",
    "        lstm_outputs, _ = self.lstm(input)\n",
    "        output = self.linear(lstm_outputs)\n",
    "        return output\n",
    "    "
   ]
  },
  {
   "attachments": {},
   "cell_type": "markdown",
   "metadata": {},
   "source": [
    "### **_Seq2Seq_**"
   ]
  },
  {
   "cell_type": "code",
   "execution_count": null,
   "metadata": {},
   "outputs": [],
   "source": [
    "class Seq2Seq(nn.Module):\n",
    "    \n",
    "    def __init__(self, encoder, decoder) -> None:\n",
    "        '''\n",
    "        '''\n",
    "        super(Seq2Seq, self).__init__()\n",
    "        self.encoder = encoder\n",
    "        self.decoder = decoder\n",
    "    \n",
    "    def forward(self, input_ids, attention_mask):\n",
    "        last_hidden_state = self.encoder(input_ids, attention_mask)\n",
    "        decoder_output = self.decoder(last_hidden_state)\n",
    "        return decoder_output\n",
    "        "
   ]
  },
  {
   "cell_type": "code",
   "execution_count": null,
   "metadata": {},
   "outputs": [],
   "source": [
    "class Seq2Seqwithattn():\n",
    "\n",
    "    def __init__(self, encoder, decoder, attn_embed_dim, num_heads) -> None:\n",
    "        super(Seq2Seqwithattn, self).__init__()\n",
    "        self.encoder = encoder\n",
    "        self.multihead_attn = nn.MultiheadAttention(attn_embed_dim, num_heads)\n",
    "        self.decoder = decoder\n",
    "\n",
    "    def forward(self, input_ids, attention_mask):\n",
    "        encoder_outputs  = self.encoder(input_ids, attention_mask)\n",
    "        attn_output, _ = self.multihead_attn(encoder_outputs,\n",
    "                                             encoder_outputs,\n",
    "                                             encoder_outputs)\n",
    "        decoder_outputs = self.decoder(attn_output)\n",
    "        return decoder_outputs"
   ]
  },
  {
   "cell_type": "code",
   "execution_count": null,
   "metadata": {},
   "outputs": [],
   "source": [
    "class bertsformer(nn.Module):\n",
    "\n",
    "    def __init__(self, bert_model):\n",
    "        super(bertsformer, self).__init__()\n",
    "        self.bert_encoder = bert_model\n",
    "        self.trans_decoder = nn.TransformerDecoder(d_model=512, nhead=8)\n",
    "\n",
    "    def forward(self, input_ids, attention_mask):\n",
    "        bert_output = self.bert_encoder(input_ids=input_ids, attention_mask=attention_mask)\n",
    "        hidden_states = bert_output['last_hidden_state']\n",
    "        # Assuming you have the necessary inputs for the TransformerDecoder\n",
    "        trans_decoder_output = self.trans_decoder(hidden_states, num_layers=6)\n",
    "        return trans_decoder_output\n"
   ]
  },
  {
   "attachments": {},
   "cell_type": "markdown",
   "metadata": {},
   "source": [
    "### **_Preprocess data_**"
   ]
  },
  {
   "cell_type": "code",
   "execution_count": null,
   "metadata": {},
   "outputs": [],
   "source": [
    "def preprocess_data(text):\n",
    "    return [tok.text for tok in nlp.tokenizer(text)]"
   ]
  },
  {
   "cell_type": "code",
   "execution_count": null,
   "metadata": {},
   "outputs": [],
   "source": [
    "class PubMedDataset(Dataset):\n",
    "    \n",
    "    def __init__(self, df, tokenizer) -> None:\n",
    "        super().__init__()\n",
    "        self.df = df\n",
    "        self.tokenizer = tokenizer\n",
    "\n",
    "    def __len__(self):\n",
    "        return len(self.df)\n",
    "\n",
    "    def __getitem__(self, index):\n",
    "        input_seq = self.df.loc[index, \"input\"]\n",
    "        target_seq = self.df.loc[index, \"target\"]\n",
    "\n",
    "        encoded_inputs = self.tokenizer.encode_plus(\n",
    "            input_seq,\n",
    "            add_special_tokens=True,\n",
    "            padding='max_length', \n",
    "            max_length=128,\n",
    "            truncation=True,\n",
    "            return_tensors='pt'\n",
    "        )\n",
    "        encoded_targets = self.tokenizer.encode_plus(\n",
    "            target_seq,\n",
    "            add_special_tokens=True,\n",
    "            padding='max_length',\n",
    "            max_length=128,\n",
    "            truncation=True,\n",
    "            return_tensors='pt'\n",
    "        )\n",
    "\n",
    "        input_ids = encoded_inputs['input_ids'].squeeze(0)\n",
    "        attention_mask = encoded_inputs['attention_mask'].squeeze(0)\n",
    "        target_ids = encoded_targets['input_ids'].squeeze(0)\n",
    "\n",
    "        return input_ids, attention_mask, target_ids"
   ]
  },
  {
   "cell_type": "code",
   "execution_count": null,
   "metadata": {},
   "outputs": [],
   "source": [
    "import json\n",
    "\n",
    "training_set = r'./../spider/meddialog/results/eval_wer_json/pubmed_46374_train.json'\n",
    "with open(training_set, 'r') as td:\n",
    "    data = json.load(td)"
   ]
  },
  {
   "cell_type": "code",
   "execution_count": null,
   "metadata": {},
   "outputs": [],
   "source": [
    "utterances = []\n",
    "results = []\n",
    "\n",
    "for d in data:\n",
    "    utterances.append(d['utterances']['pubmed'])\n",
    "    results.append(d['results']['pubmed'][2:])\n",
    "\n",
    "print(len(utterances))\n",
    "\n",
    "pubmed_df = pd.DataFrame({'input': utterances, 'target': results})\n",
    "PD = PubMedDataset(pubmed_df, bert_tokenizer)\n",
    "dataloader = DataLoader(PD, batch_size=6, shuffle=True)\n",
    "\n",
    "print(pubmed_df.head())"
   ]
  },
  {
   "attachments": {},
   "cell_type": "markdown",
   "metadata": {},
   "source": [
    "### **_Train model_**"
   ]
  },
  {
   "cell_type": "code",
   "execution_count": null,
   "metadata": {},
   "outputs": [],
   "source": [
    "def train_model(model, criterion, optimizer, dataloader, num_epochs):\n",
    "    model.train()\n",
    "\n",
    "    for epoch in range(num_epochs):\n",
    "        for i, (input_ids, attention_mask, target_ids) in enumerate(dataloader):\n",
    "            optimizer.zero_grad()\n",
    "\n",
    "            # 將資料移到 device\n",
    "            input_ids = input_ids.to(device)\n",
    "            attention_mask = attention_mask.to(device)\n",
    "            target_ids = target_ids.to(device)\n",
    "\n",
    "            # forward\n",
    "            outputs = model(input_ids, attention_mask)\n",
    "            loss = criterion(outputs.view(-1, vocab_size), target_ids.view(-1))\n",
    "\n",
    "            # backward & optimization\n",
    "            loss.backward()\n",
    "            optimizer.step()\n",
    "            \n",
    "            print(f\"Epoch [{epoch+1}/{num_epochs}], Step [{i+1}/{len(dataloader)}], Loss: {loss.item()}\")"
   ]
  },
  {
   "cell_type": "code",
   "execution_count": null,
   "metadata": {},
   "outputs": [],
   "source": [
    "encoder = Encoder(bert_model=bert_model)\n",
    "decoder = Decoder(lstm_hidden_size=lstm_hidden_size, num_layers=num_layers, vocab_size=vocab_size)\n",
    "bert_lstm_s2s_model = Seq2Seq(encoder, decoder)\n",
    "\n",
    "criterion = nn.CrossEntropyLoss()\n",
    "# optimizer = torch.optim.Adam(bert_lstm_s2s_model.parameters(), lr=0.001)\n",
    "optimizer = torch.optim.AdamW(bert_lstm_s2s_model.parameters(), lr=0.001)\n",
    "\n",
    "train_model(bert_lstm_s2s_model, \\\n",
    "            criterion=criterion, \\\n",
    "            optimizer=optimizer, \\\n",
    "            dataloader=dataloader, \\\n",
    "            num_epochs=10)\n",
    "\n",
    "# torch.save(model.state_dict(), 'model.pth')"
   ]
  },
  {
   "attachments": {},
   "cell_type": "markdown",
   "metadata": {},
   "source": [
    "### **_Evaluate the model_**"
   ]
  },
  {
   "cell_type": "code",
   "execution_count": null,
   "metadata": {},
   "outputs": [],
   "source": [
    "predicted_sentences = []\n",
    "bert_lstm_s2s_model.eval()\n",
    "\n",
    "with torch.no_grad():\n",
    "    for input_ids, attention_mask, target_ids in dataloader:\n",
    "        input_ids = input_ids.to(device)\n",
    "        attention_mask = attention_mask.to(device)\n",
    "\n",
    "        outputs = bert_lstm_s2s_model(input_ids, attention_mask)\n",
    "\n",
    "        _, predicted_ids = torch.max(outputs, dim=2)\n",
    "\n",
    "        for ids in predicted_ids:\n",
    "            tokens = bert_tokenizer.convert_ids_to_tokens(ids, skip_special_tokens=True)\n",
    "            sentence = bert_tokenizer.convert_tokens_to_string(tokens)\n",
    "            predicted_sentences.append(sentence)\n",
    "\n",
    "\n",
    "print(predicted_sentences[:10])\n"
   ]
  },
  {
   "cell_type": "code",
   "execution_count": null,
   "metadata": {},
   "outputs": [],
   "source": []
  }
 ],
 "metadata": {
  "kernelspec": {
   "display_name": "Python 3",
   "language": "python",
   "name": "python3"
  },
  "language_info": {
   "codemirror_mode": {
    "name": "ipython",
    "version": 3
   },
   "file_extension": ".py",
   "mimetype": "text/x-python",
   "name": "python",
   "nbconvert_exporter": "python",
   "pygments_lexer": "ipython3",
   "version": "3.11.2"
  },
  "orig_nbformat": 4
 },
 "nbformat": 4,
 "nbformat_minor": 2
}
